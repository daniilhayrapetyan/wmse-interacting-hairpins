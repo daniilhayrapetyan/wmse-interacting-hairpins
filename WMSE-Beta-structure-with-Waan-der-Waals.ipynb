{
 "cells": [
  {
   "cell_type": "code",
   "execution_count": 1,
   "metadata": {},
   "outputs": [],
   "source": [
    "import numpy as np\n",
    "import matplotlib.pyplot as plot\n",
    "\n",
    "from IPython.display import display, clear_output\n",
    "import ipywidgets as widgets\n",
    "from ipywidgets import interact, interactive\n",
    "\n",
    "from moviepy.editor import VideoClip\n",
    "\n",
    "from wmse import *"
   ]
  },
  {
   "cell_type": "code",
   "execution_count": null,
   "metadata": {},
   "outputs": [],
   "source": [
    "def differential_curve(model, plot_name, t1, t2, dt=0.01):\n",
    "    theta = []\n",
    "    for t in np.arange(t1, t2, dt):\n",
    "        theta = model. "
   ]
  },
  {
   "cell_type": "code",
   "execution_count": 7,
   "metadata": {},
   "outputs": [],
   "source": [
    "deltaS = 1.0\n",
    "th_len, tb_len, b1_len, con_len, b2_len, hh_len = 1, 8, 1, 3, 1, 1\n",
    "segments = [-0.5]\n",
    "for seg in [th_len, tb_len, b1_len, con_len, b2_len, hh_len]:\n",
    "    segments += [segments[-1] + seg] \n",
    "\n",
    "TAIL_HEAD_SEGMENT = WMSESegment(th_len, 0.0, 0.0, deltaS, tail)\n",
    "TAIL_BODY_SEGMENT = WMSESegment(tb_len, 0.0, 0.0, deltaS, body)\n",
    "BODY_1_SEGMENT    = WMSESegment(b1_len, 1.0, 0.0, deltaS, body)\n",
    "CON_SEGMENT       = WMSESegment(con_len, 1.0, 1.0, deltaS, body)\n",
    "BODY_2_SEGMENT    = WMSESegment(b2_len, 1.0, 0.0, deltaS, body)\n",
    "HEAD_HEAD_SEGMENT = WMSESegment(hh_len, 1.0, 0.0, deltaS, head)\n",
    "\n",
    "model = WMSEBetaWave([TAIL_HEAD_SEGMENT, TAIL_BODY_SEGMENT, BODY_1_SEGMENT,\n",
    "                     CON_SEGMENT, BODY_2_SEGMENT, HEAD_HEAD_SEGMENT], 2)"
   ]
  },
  {
   "cell_type": "code",
   "execution_count": 8,
   "metadata": {},
   "outputs": [],
   "source": [
    "def see_map(t):\n",
    "    probability_map = model.get_bond_probability_map(t)\n",
    "    fig = plot.figure(figsize=(8, 6))\n",
    "    plot.imshow(probability_map, aspect='auto', vmax=1.0, vmin=0.0)\n",
    "    plot.title('temperature = %.3f' % t)\n",
    "    plot.yticks(range(3), [['<-', '->'][i%2] for i in range(3)])\n",
    "    plot.xticks(segments[1:], ['+']*(len(segments) - 1))\n",
    "    plot.colorbar()\n",
    "    plot.suptitle('1-element-connection')\n",
    "    fig.canvas.draw()\n",
    "    image = np.array(fig.canvas.renderer._renderer)[:,:,:-1] \n",
    "    return image\n"
   ]
  },
  {
   "cell_type": "code",
   "execution_count": 9,
   "metadata": {},
   "outputs": [
    {
     "data": {
      "image/png": "[encoded data removed]",
      "text/plain": [
       "<matplotlib.figure.Figure at 0x8341d68>"
      ]
     },
     "metadata": {},
     "output_type": "display_data"
    },
    {
     "data": {
      "text/plain": [
       "<function __main__.interactive_plot>"
      ]
     },
     "execution_count": 9,
     "metadata": {},
     "output_type": "execute_result"
    }
   ],
   "source": [
    "def interactive_plot(t):\n",
    "    see_map(t)\n",
    "    plot.show()\n",
    "\n",
    "interact(interactive_plot, t = (0.1, 0.2, 0.001))"
   ]
  },
  {
   "cell_type": "code",
   "execution_count": 10,
   "metadata": {},
   "outputs": [
    {
     "name": "stdout",
     "output_type": "stream",
     "text": [
      "[MoviePy] >>>> Building video 3-element-connection-s-1.mp4\n",
      "[MoviePy] Writing video 3-element-connection-s-1.mp4\n"
     ]
    },
    {
     "name": "stderr",
     "output_type": "stream",
     "text": [
      "100%|██████████████████████████████████████████▉| 360/361 [01:36<00:00,  2.94it/s]\n"
     ]
    },
    {
     "name": "stdout",
     "output_type": "stream",
     "text": [
      "[MoviePy] Done.\n",
      "[MoviePy] >>>> Video ready: 3-element-connection-s-1.mp4 \n",
      "\n",
      "fine\n"
     ]
    }
   ],
   "source": [
    "def render_frame(t):\n",
    "    image = see_map(t)\n",
    "\n",
    "    plot.close()\n",
    "    return image\n",
    "    \n",
    "animation = VideoClip(lambda x: render_frame(0.05 + x*0.01), duration = 15.0)\n",
    "animation.write_videofile('3-element-connection-s-1.mp4', fps=24)\n",
    "print 'fine'"
   ]
  },
  {
   "cell_type": "code",
   "execution_count": null,
   "metadata": {},
   "outputs": [],
   "source": []
  },
  {
   "cell_type": "code",
   "execution_count": null,
   "metadata": {},
   "outputs": [],
   "source": []
  }
 ],
 "metadata": {
  "kernelspec": {
   "display_name": "Python 2",
   "language": "python",
   "name": "python2"
  },
  "language_info": {
   "codemirror_mode": {
    "name": "ipython",
    "version": 2
   },
   "file_extension": ".py",
   "mimetype": "text/x-python",
   "name": "python",
   "nbconvert_exporter": "python",
   "pygments_lexer": "ipython2",
   "version": "2.7.14"
  }
 },
 "nbformat": 4,
 "nbformat_minor": 2
}
